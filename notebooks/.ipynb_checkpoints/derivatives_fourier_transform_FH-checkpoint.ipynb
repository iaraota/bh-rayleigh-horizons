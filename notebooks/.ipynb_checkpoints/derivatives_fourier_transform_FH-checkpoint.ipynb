{
 "cells": [
  {
   "cell_type": "markdown",
   "id": "e21c320d-346b-4e81-abab-31381e2ab2bb",
   "metadata": {},
   "source": [
    "Compute the derivative relative to the QNM parameters of the Fourier Transform of the of the QNM waveform, \n",
    "<!--  -->\n",
    "$$\\Re(h) = A_{\\ell mn}\\exp(-|t|/\\tau_{\\ell mn}\\cos(2\\pi f_{\\ell mn} - \\phi_{\\ell mn}),$$ \n",
    "$$\\Im(h) = A_{\\ell mn}\\exp(-|t|/\\tau_{\\ell mn}\\sin(2\\pi f_{\\ell mn} - \\phi_{\\ell mn}),$$ \n",
    "<!--  -->\n",
    "The $|t|$ is relative to the Flanagan and Hughes prescription (see E. E. Flanagan and S. A. Hughes, Phys. Rev. D 57, 4535 (1998) https://arxiv.org/pdf/gr-qc/9701039.pdf or eq. (3.5) of E. Berti, V. Cardoso, and C. M. Will, Phys. Rev. D 73, 064030 (2006), https://arxiv.org/pdf/gr-qc/0512160.pdf)\n"
   ]
  },
  {
   "cell_type": "code",
   "execution_count": 1,
   "id": "488786df-f939-458c-8b0b-8ad83e38040a",
   "metadata": {},
   "outputs": [],
   "source": [
    "# import library for symbolic mathematics\n",
    "from sympy import *"
   ]
  },
  {
   "cell_type": "markdown",
   "id": "2d5e0219-d36f-4f69-85c5-bd2e9c5441fa",
   "metadata": {},
   "source": [
    "from page 8 of https://arxiv.org/pdf/gr-qc/0512160.pdf:\n",
    "\n",
    "The Fourier transform of the waveform can be computed using the elementary relation\n",
    "$$\n",
    "\\int_{-\\infty}^{+\\infty} e^{i \\omega t}\\left(e^{\\pm i \\omega_{\\ell m n}t - |t|/\\tau_{\\ell m n}} \\right)dt = \\frac{2/\\tau_{\\ell m n}}{1/\\tau_{\\ell m n}^2 + (\\omega \\pm \\omega_{\\ell m n})^2} \\equiv 2 b_\\pm\n",
    "$$\n",
    "\n",
    "\n",
    "Divide by factor $2$ to account for the doubling prescription.\n",
    "$$\n",
    "\\tilde{h}_+ = \\Re(\\tilde{h}) = \\frac{A_{\\ell m n}}{2}\\left[e^{-i\\phi_{\\ell m n}}b_+ + e^{i\\phi_{\\ell m n}}b_- \\right]\n",
    "$$\n",
    "$$\n",
    "\\tilde{h}_\\times = \\Im(\\tilde{h}) = \\frac{i A_{\\ell m n}}{2}\\left[-e^{-i\\phi_{\\ell m n}}b_+ + e^{i\\phi_{\\ell m n}}b_- \\right]\n",
    "$$\n",
    "\n",
    "For frequency in Herz: $\\omega \\rightarrow 2\\pi f$"
   ]
  },
  {
   "cell_type": "code",
   "execution_count": 2,
   "id": "9a809632-f71d-4113-a159-300ec32a7140",
   "metadata": {},
   "outputs": [],
   "source": [
    "# define b_\\pm\n",
    "\n",
    "def b_p(freq_array:list, f_lmn, tau_lmn):\n",
    "    return tau_lmn/(1 + ((2*pi*freq_array + 2*pi*f_lmn)*tau_lmn)**2)\n",
    "\n",
    "def b_m(freq_array:list, f_lmn, tau_lmn):\n",
    "    return tau_lmn/(1 + ((2*pi*freq_array - 2*pi*f_lmn)*tau_lmn)**2)"
   ]
  },
  {
   "cell_type": "code",
   "execution_count": 3,
   "id": "15dc3b9f-edc9-45f3-9893-81b2cfe48fd6",
   "metadata": {},
   "outputs": [],
   "source": [
    "# define the Fourier transform of each polirization\n",
    "\n",
    "def h_real(freq_array:list, A_lmn, phi_lmn, f_lmn, tau_lmn):\n",
    "    return (A_lmn/2)*(\n",
    "        exp(-1j*phi_lmn)*b_p(freq_array, f_lmn, tau_lmn)\n",
    "        + exp(1j*phi_lmn)*b_m(freq_array, f_lmn, tau_lmn) \n",
    "    )\n",
    "\n",
    "def h_imag(freq_array:list, A_lmn, phi_lmn, f_lmn, tau_lmn):\n",
    "    return 1j*(A_lmn/2)*(\n",
    "        - exp(-1j*phi_lmn)*b_p(freq_array, f_lmn, tau_lmn)\n",
    "        + exp(1j*phi_lmn)*b_m(freq_array, f_lmn, tau_lmn) \n",
    "    )"
   ]
  },
  {
   "cell_type": "markdown",
   "id": "e83f9917-5747-4177-856e-1df68a1625a3",
   "metadata": {},
   "source": [
    "Create Sympy components to compute the partial derivatives"
   ]
  },
  {
   "cell_type": "code",
   "execution_count": 4,
   "id": "8af07b3b-715f-43cb-986f-a3df3817b12a",
   "metadata": {},
   "outputs": [],
   "source": [
    "# Sample frequencies array as Sympy symbols\n",
    "f_array = symbols('f_array', real = True)\n",
    "\n",
    "# QNM parameters as Sympy symbols\n",
    "A_lmn, phi_lmn, f_lmn, tau_lmn = symbols('A_lmn phi_lmn f_lmn tau_lmn', real = True)\n",
    "\n",
    "# Sympy fnctions of the Fourier transforms\n",
    "h_Re = h_real(f_array, A_lmn, phi_lmn, f_lmn, tau_lmn)\n",
    "h_Im = h_imag(f_array, A_lmn, phi_lmn, f_lmn, tau_lmn)"
   ]
  },
  {
   "cell_type": "markdown",
   "id": "c399eca8-ed2a-4565-a198-364c059d63ca",
   "metadata": {},
   "source": [
    "### Compute partial derivatives of the plus polarization"
   ]
  },
  {
   "cell_type": "code",
   "execution_count": 5,
   "id": "53ed1a72-70fb-4ab0-b8cd-da1a3284800d",
   "metadata": {},
   "outputs": [
    {
     "data": {
      "text/latex": [
       "$\\displaystyle \\frac{A_{lmn} \\left(\\frac{4 \\pi \\tau_{lmn}^{3} \\left(2 \\pi f_{array} - 2 \\pi f_{lmn}\\right) e^{1.0 i \\phi_{lmn}}}{\\left(\\tau_{lmn}^{2} \\left(2 \\pi f_{array} - 2 \\pi f_{lmn}\\right)^{2} + 1\\right)^{2}} - \\frac{4 \\pi \\tau_{lmn}^{3} \\left(2 \\pi f_{array} + 2 \\pi f_{lmn}\\right) e^{- 1.0 i \\phi_{lmn}}}{\\left(\\tau_{lmn}^{2} \\left(2 \\pi f_{array} + 2 \\pi f_{lmn}\\right)^{2} + 1\\right)^{2}}\\right)}{2}$"
      ],
      "text/plain": [
       "A_lmn*(4*pi*tau_lmn**3*(2*pi*f_array - 2*pi*f_lmn)*exp(1.0*I*phi_lmn)/(tau_lmn**2*(2*pi*f_array - 2*pi*f_lmn)**2 + 1)**2 - 4*pi*tau_lmn**3*(2*pi*f_array + 2*pi*f_lmn)*exp(-1.0*I*phi_lmn)/(tau_lmn**2*(2*pi*f_array + 2*pi*f_lmn)**2 + 1)**2)/2"
      ]
     },
     "execution_count": 5,
     "metadata": {},
     "output_type": "execute_result"
    }
   ],
   "source": [
    "diff(h_Re, f_lmn)"
   ]
  },
  {
   "cell_type": "code",
   "execution_count": 6,
   "id": "90682288-4211-4116-b041-68ad06c00ad2",
   "metadata": {},
   "outputs": [
    {
     "data": {
      "text/latex": [
       "$\\displaystyle \\frac{A_{lmn} \\left(- \\frac{2 \\tau_{lmn}^{2} \\left(2 \\pi f_{array} - 2 \\pi f_{lmn}\\right)^{2} e^{1.0 i \\phi_{lmn}}}{\\left(\\tau_{lmn}^{2} \\left(2 \\pi f_{array} - 2 \\pi f_{lmn}\\right)^{2} + 1\\right)^{2}} - \\frac{2 \\tau_{lmn}^{2} \\left(2 \\pi f_{array} + 2 \\pi f_{lmn}\\right)^{2} e^{- 1.0 i \\phi_{lmn}}}{\\left(\\tau_{lmn}^{2} \\left(2 \\pi f_{array} + 2 \\pi f_{lmn}\\right)^{2} + 1\\right)^{2}} + \\frac{e^{- 1.0 i \\phi_{lmn}}}{\\tau_{lmn}^{2} \\left(2 \\pi f_{array} + 2 \\pi f_{lmn}\\right)^{2} + 1} + \\frac{e^{1.0 i \\phi_{lmn}}}{\\tau_{lmn}^{2} \\left(2 \\pi f_{array} - 2 \\pi f_{lmn}\\right)^{2} + 1}\\right)}{2}$"
      ],
      "text/plain": [
       "A_lmn*(-2*tau_lmn**2*(2*pi*f_array - 2*pi*f_lmn)**2*exp(1.0*I*phi_lmn)/(tau_lmn**2*(2*pi*f_array - 2*pi*f_lmn)**2 + 1)**2 - 2*tau_lmn**2*(2*pi*f_array + 2*pi*f_lmn)**2*exp(-1.0*I*phi_lmn)/(tau_lmn**2*(2*pi*f_array + 2*pi*f_lmn)**2 + 1)**2 + exp(-1.0*I*phi_lmn)/(tau_lmn**2*(2*pi*f_array + 2*pi*f_lmn)**2 + 1) + exp(1.0*I*phi_lmn)/(tau_lmn**2*(2*pi*f_array - 2*pi*f_lmn)**2 + 1))/2"
      ]
     },
     "execution_count": 6,
     "metadata": {},
     "output_type": "execute_result"
    }
   ],
   "source": [
    "diff(h_Re, tau_lmn)"
   ]
  },
  {
   "cell_type": "code",
   "execution_count": 7,
   "id": "ddef7f1f-d8ff-42e8-adee-3443ddeb22c0",
   "metadata": {},
   "outputs": [
    {
     "data": {
      "text/latex": [
       "$\\displaystyle \\frac{A_{lmn} \\left(- \\frac{1.0 i \\tau_{lmn} e^{- 1.0 i \\phi_{lmn}}}{\\tau_{lmn}^{2} \\left(2 \\pi f_{array} + 2 \\pi f_{lmn}\\right)^{2} + 1} + \\frac{1.0 i \\tau_{lmn} e^{1.0 i \\phi_{lmn}}}{\\tau_{lmn}^{2} \\left(2 \\pi f_{array} - 2 \\pi f_{lmn}\\right)^{2} + 1}\\right)}{2}$"
      ],
      "text/plain": [
       "A_lmn*(-1.0*I*tau_lmn*exp(-1.0*I*phi_lmn)/(tau_lmn**2*(2*pi*f_array + 2*pi*f_lmn)**2 + 1) + 1.0*I*tau_lmn*exp(1.0*I*phi_lmn)/(tau_lmn**2*(2*pi*f_array - 2*pi*f_lmn)**2 + 1))/2"
      ]
     },
     "execution_count": 7,
     "metadata": {},
     "output_type": "execute_result"
    }
   ],
   "source": [
    "diff(h_Re, phi_lmn)"
   ]
  },
  {
   "cell_type": "code",
   "execution_count": 8,
   "id": "786cea9d-aa9e-4252-8418-a2f0a060850f",
   "metadata": {},
   "outputs": [
    {
     "data": {
      "text/latex": [
       "$\\displaystyle \\frac{\\tau_{lmn} e^{- 1.0 i \\phi_{lmn}}}{2 \\left(\\tau_{lmn}^{2} \\left(2 \\pi f_{array} + 2 \\pi f_{lmn}\\right)^{2} + 1\\right)} + \\frac{\\tau_{lmn} e^{1.0 i \\phi_{lmn}}}{2 \\left(\\tau_{lmn}^{2} \\left(2 \\pi f_{array} - 2 \\pi f_{lmn}\\right)^{2} + 1\\right)}$"
      ],
      "text/plain": [
       "tau_lmn*exp(-1.0*I*phi_lmn)/(2*(tau_lmn**2*(2*pi*f_array + 2*pi*f_lmn)**2 + 1)) + tau_lmn*exp(1.0*I*phi_lmn)/(2*(tau_lmn**2*(2*pi*f_array - 2*pi*f_lmn)**2 + 1))"
      ]
     },
     "execution_count": 8,
     "metadata": {},
     "output_type": "execute_result"
    }
   ],
   "source": [
    "diff(h_Re, A_lmn)"
   ]
  },
  {
   "cell_type": "markdown",
   "id": "832674f3-d0e1-4aa6-8a66-8a00f57bd7af",
   "metadata": {},
   "source": [
    "### Compute partial derivatives of the cross polarization"
   ]
  },
  {
   "cell_type": "code",
   "execution_count": 9,
   "id": "52e62235-0d76-4e6d-aa18-6fc71e537f0d",
   "metadata": {},
   "outputs": [
    {
     "data": {
      "text/latex": [
       "$\\displaystyle 0.5 i A_{lmn} \\left(\\frac{4 \\pi \\tau_{lmn}^{3} \\left(2 \\pi f_{array} - 2 \\pi f_{lmn}\\right) e^{1.0 i \\phi_{lmn}}}{\\left(\\tau_{lmn}^{2} \\left(2 \\pi f_{array} - 2 \\pi f_{lmn}\\right)^{2} + 1\\right)^{2}} + \\frac{4 \\pi \\tau_{lmn}^{3} \\left(2 \\pi f_{array} + 2 \\pi f_{lmn}\\right) e^{- 1.0 i \\phi_{lmn}}}{\\left(\\tau_{lmn}^{2} \\left(2 \\pi f_{array} + 2 \\pi f_{lmn}\\right)^{2} + 1\\right)^{2}}\\right)$"
      ],
      "text/plain": [
       "0.5*I*A_lmn*(4*pi*tau_lmn**3*(2*pi*f_array - 2*pi*f_lmn)*exp(1.0*I*phi_lmn)/(tau_lmn**2*(2*pi*f_array - 2*pi*f_lmn)**2 + 1)**2 + 4*pi*tau_lmn**3*(2*pi*f_array + 2*pi*f_lmn)*exp(-1.0*I*phi_lmn)/(tau_lmn**2*(2*pi*f_array + 2*pi*f_lmn)**2 + 1)**2)"
      ]
     },
     "execution_count": 9,
     "metadata": {},
     "output_type": "execute_result"
    }
   ],
   "source": [
    "diff(h_Im, f_lmn)"
   ]
  },
  {
   "cell_type": "code",
   "execution_count": 10,
   "id": "4910fdd1-0453-4877-9382-42251fcbf6b1",
   "metadata": {},
   "outputs": [
    {
     "data": {
      "text/latex": [
       "$\\displaystyle 0.5 i A_{lmn} \\left(- \\frac{2 \\tau_{lmn}^{2} \\left(2 \\pi f_{array} - 2 \\pi f_{lmn}\\right)^{2} e^{1.0 i \\phi_{lmn}}}{\\left(\\tau_{lmn}^{2} \\left(2 \\pi f_{array} - 2 \\pi f_{lmn}\\right)^{2} + 1\\right)^{2}} + \\frac{2 \\tau_{lmn}^{2} \\left(2 \\pi f_{array} + 2 \\pi f_{lmn}\\right)^{2} e^{- 1.0 i \\phi_{lmn}}}{\\left(\\tau_{lmn}^{2} \\left(2 \\pi f_{array} + 2 \\pi f_{lmn}\\right)^{2} + 1\\right)^{2}} - \\frac{e^{- 1.0 i \\phi_{lmn}}}{\\tau_{lmn}^{2} \\left(2 \\pi f_{array} + 2 \\pi f_{lmn}\\right)^{2} + 1} + \\frac{e^{1.0 i \\phi_{lmn}}}{\\tau_{lmn}^{2} \\left(2 \\pi f_{array} - 2 \\pi f_{lmn}\\right)^{2} + 1}\\right)$"
      ],
      "text/plain": [
       "0.5*I*A_lmn*(-2*tau_lmn**2*(2*pi*f_array - 2*pi*f_lmn)**2*exp(1.0*I*phi_lmn)/(tau_lmn**2*(2*pi*f_array - 2*pi*f_lmn)**2 + 1)**2 + 2*tau_lmn**2*(2*pi*f_array + 2*pi*f_lmn)**2*exp(-1.0*I*phi_lmn)/(tau_lmn**2*(2*pi*f_array + 2*pi*f_lmn)**2 + 1)**2 - exp(-1.0*I*phi_lmn)/(tau_lmn**2*(2*pi*f_array + 2*pi*f_lmn)**2 + 1) + exp(1.0*I*phi_lmn)/(tau_lmn**2*(2*pi*f_array - 2*pi*f_lmn)**2 + 1))"
      ]
     },
     "execution_count": 10,
     "metadata": {},
     "output_type": "execute_result"
    }
   ],
   "source": [
    "diff(h_Im, tau_lmn)"
   ]
  },
  {
   "cell_type": "code",
   "execution_count": 11,
   "id": "f5007405-2f8c-48ca-91d8-f23af52fbb4c",
   "metadata": {},
   "outputs": [
    {
     "data": {
      "text/latex": [
       "$\\displaystyle 0.5 i A_{lmn} \\left(\\frac{1.0 i \\tau_{lmn} e^{- 1.0 i \\phi_{lmn}}}{\\tau_{lmn}^{2} \\left(2 \\pi f_{array} + 2 \\pi f_{lmn}\\right)^{2} + 1} + \\frac{1.0 i \\tau_{lmn} e^{1.0 i \\phi_{lmn}}}{\\tau_{lmn}^{2} \\left(2 \\pi f_{array} - 2 \\pi f_{lmn}\\right)^{2} + 1}\\right)$"
      ],
      "text/plain": [
       "0.5*I*A_lmn*(1.0*I*tau_lmn*exp(-1.0*I*phi_lmn)/(tau_lmn**2*(2*pi*f_array + 2*pi*f_lmn)**2 + 1) + 1.0*I*tau_lmn*exp(1.0*I*phi_lmn)/(tau_lmn**2*(2*pi*f_array - 2*pi*f_lmn)**2 + 1))"
      ]
     },
     "execution_count": 11,
     "metadata": {},
     "output_type": "execute_result"
    }
   ],
   "source": [
    "diff(h_Im, phi_lmn)"
   ]
  },
  {
   "cell_type": "code",
   "execution_count": 12,
   "id": "d532e314-56f0-4444-b91d-cb210791f10c",
   "metadata": {},
   "outputs": [
    {
     "data": {
      "text/latex": [
       "$\\displaystyle 0.5 i \\left(- \\frac{\\tau_{lmn} e^{- 1.0 i \\phi_{lmn}}}{\\tau_{lmn}^{2} \\left(2 \\pi f_{array} + 2 \\pi f_{lmn}\\right)^{2} + 1} + \\frac{\\tau_{lmn} e^{1.0 i \\phi_{lmn}}}{\\tau_{lmn}^{2} \\left(2 \\pi f_{array} - 2 \\pi f_{lmn}\\right)^{2} + 1}\\right)$"
      ],
      "text/plain": [
       "0.5*I*(-tau_lmn*exp(-1.0*I*phi_lmn)/(tau_lmn**2*(2*pi*f_array + 2*pi*f_lmn)**2 + 1) + tau_lmn*exp(1.0*I*phi_lmn)/(tau_lmn**2*(2*pi*f_array - 2*pi*f_lmn)**2 + 1))"
      ]
     },
     "execution_count": 12,
     "metadata": {},
     "output_type": "execute_result"
    }
   ],
   "source": [
    "diff(h_Im, A_lmn)"
   ]
  },
  {
   "cell_type": "markdown",
   "id": "93d70384-def9-4635-9a87-40fd1f5ea58a",
   "metadata": {},
   "source": [
    "## Get results in python syntax\n",
    "(change 1.0*I to 1j and pi to lib.pi)"
   ]
  },
  {
   "cell_type": "code",
   "execution_count": 13,
   "id": "6fdb3a7c-cb22-47fd-b8c9-56c2005b1743",
   "metadata": {},
   "outputs": [
    {
     "name": "stdout",
     "output_type": "stream",
     "text": [
      "A_lmn\n",
      "real polarization\n",
      "\n",
      "tau_lmn*exp(-1.0*I*phi_lmn)/(2*(tau_lmn**2*(2*pi*f_array + 2*pi*f_lmn)**2 + 1)) + tau_lmn*exp(1.0*I*phi_lmn)/(2*(tau_lmn**2*(2*pi*f_array - 2*pi*f_lmn)**2 + 1)) \n",
      "\n",
      "imaginary polarization\n",
      "\n",
      "0.5*I*(-tau_lmn*exp(-1.0*I*phi_lmn)/(tau_lmn**2*(2*pi*f_array + 2*pi*f_lmn)**2 + 1) + tau_lmn*exp(1.0*I*phi_lmn)/(tau_lmn**2*(2*pi*f_array - 2*pi*f_lmn)**2 + 1)) \n",
      "\n",
      "phi_lmn\n",
      "real polarization\n",
      "\n",
      "A_lmn*(-1.0*I*tau_lmn*exp(-1.0*I*phi_lmn)/(tau_lmn**2*(2*pi*f_array + 2*pi*f_lmn)**2 + 1) + 1.0*I*tau_lmn*exp(1.0*I*phi_lmn)/(tau_lmn**2*(2*pi*f_array - 2*pi*f_lmn)**2 + 1))/2 \n",
      "\n",
      "imaginary polarization\n",
      "\n",
      "0.5*I*A_lmn*(1.0*I*tau_lmn*exp(-1.0*I*phi_lmn)/(tau_lmn**2*(2*pi*f_array + 2*pi*f_lmn)**2 + 1) + 1.0*I*tau_lmn*exp(1.0*I*phi_lmn)/(tau_lmn**2*(2*pi*f_array - 2*pi*f_lmn)**2 + 1)) \n",
      "\n",
      "f_lmn\n",
      "real polarization\n",
      "\n",
      "A_lmn*(4*pi*tau_lmn**3*(2*pi*f_array - 2*pi*f_lmn)*exp(1.0*I*phi_lmn)/(tau_lmn**2*(2*pi*f_array - 2*pi*f_lmn)**2 + 1)**2 - 4*pi*tau_lmn**3*(2*pi*f_array + 2*pi*f_lmn)*exp(-1.0*I*phi_lmn)/(tau_lmn**2*(2*pi*f_array + 2*pi*f_lmn)**2 + 1)**2)/2 \n",
      "\n",
      "imaginary polarization\n",
      "\n",
      "0.5*I*A_lmn*(4*pi*tau_lmn**3*(2*pi*f_array - 2*pi*f_lmn)*exp(1.0*I*phi_lmn)/(tau_lmn**2*(2*pi*f_array - 2*pi*f_lmn)**2 + 1)**2 + 4*pi*tau_lmn**3*(2*pi*f_array + 2*pi*f_lmn)*exp(-1.0*I*phi_lmn)/(tau_lmn**2*(2*pi*f_array + 2*pi*f_lmn)**2 + 1)**2) \n",
      "\n",
      "tau_lmn\n",
      "real polarization\n",
      "\n",
      "A_lmn*(-2*tau_lmn**2*(2*pi*f_array - 2*pi*f_lmn)**2*exp(1.0*I*phi_lmn)/(tau_lmn**2*(2*pi*f_array - 2*pi*f_lmn)**2 + 1)**2 - 2*tau_lmn**2*(2*pi*f_array + 2*pi*f_lmn)**2*exp(-1.0*I*phi_lmn)/(tau_lmn**2*(2*pi*f_array + 2*pi*f_lmn)**2 + 1)**2 + exp(-1.0*I*phi_lmn)/(tau_lmn**2*(2*pi*f_array + 2*pi*f_lmn)**2 + 1) + exp(1.0*I*phi_lmn)/(tau_lmn**2*(2*pi*f_array - 2*pi*f_lmn)**2 + 1))/2 \n",
      "\n",
      "imaginary polarization\n",
      "\n",
      "0.5*I*A_lmn*(-2*tau_lmn**2*(2*pi*f_array - 2*pi*f_lmn)**2*exp(1.0*I*phi_lmn)/(tau_lmn**2*(2*pi*f_array - 2*pi*f_lmn)**2 + 1)**2 + 2*tau_lmn**2*(2*pi*f_array + 2*pi*f_lmn)**2*exp(-1.0*I*phi_lmn)/(tau_lmn**2*(2*pi*f_array + 2*pi*f_lmn)**2 + 1)**2 - exp(-1.0*I*phi_lmn)/(tau_lmn**2*(2*pi*f_array + 2*pi*f_lmn)**2 + 1) + exp(1.0*I*phi_lmn)/(tau_lmn**2*(2*pi*f_array - 2*pi*f_lmn)**2 + 1)) \n",
      "\n"
     ]
    }
   ],
   "source": [
    "for par in (A_lmn, phi_lmn, f_lmn, tau_lmn):\n",
    "    print(par)\n",
    "    print('real polarization\\n')\n",
    "    print(diff(h_Re, par), '\\n')\n",
    "    print('imaginary polarization\\n')\n",
    "    print(diff(h_Im, par), '\\n')\n",
    "    "
   ]
  },
  {
   "cell_type": "markdown",
   "id": "890f6780-7c31-4285-bcf5-9fbe3e524feb",
   "metadata": {},
   "source": [
    "# Two modes waveform\n",
    "The waveform of two QNMs:\n",
    "<!--  -->\n",
    "$$\n",
    "h(t) = A_{0}[\\exp[-t/\\tau_{0} + i(2\\pi f_{0} - \\phi_{0})] + R\\exp[-t/\\tau_{1} + i(2\\pi f_{1} - \\phi_{1})]],\n",
    "$$\n",
    "where $R = A_{1}/A_{0}$ is the relative amplitude between the modes."
   ]
  },
  {
   "cell_type": "code",
   "execution_count": null,
   "id": "10ed2c29-4719-40fd-b5c0-c4e540185c22",
   "metadata": {},
   "outputs": [],
   "source": [
    "# define the Fourier transform of each polirization\n",
    "\n",
    "def h_two_re(freq_array:list, A_0, phi_0, f_0, tau_0, R, phi_1, f_1, tau_1):\n",
    "    return (A_0/2)*(\n",
    "        exp(-1j*phi_0)*b_p(freq_array, f_0, tau_0)\n",
    "        + exp(1j*phi_0)*b_m(freq_array, f_0, tau_0) \n",
    "        + R*(\n",
    "        exp(-1j*phi_1)*b_p(freq_array, f_1, tau_1)\n",
    "        + exp(1j*phi_1)*b_m(freq_array, f_1, tau_1) )\n",
    "    )\n",
    "\n",
    "def h_two_im(freq_array:list, A_0, phi_0, f_0, tau_0, R, phi_1, f_1, tau_1):\n",
    "    return 1j*(A_0/2)*(\n",
    "        - exp(-1j*phi_0)*b_p(freq_array, f_0, tau_0)\n",
    "        + exp(1j*phi_0)*b_m(freq_array, f_0, tau_0) \n",
    "        +R*(\n",
    "        - exp(-1j*phi_1)*b_p(freq_array, f_1, tau_1)\n",
    "        + exp(1j*phi_1)*b_m(freq_array, f_1, tau_1) )\n",
    "    )"
   ]
  }
 ],
 "metadata": {
  "kernelspec": {
   "display_name": "fisher_errors",
   "language": "python",
   "name": "fisher_errors"
  },
  "language_info": {
   "codemirror_mode": {
    "name": "ipython",
    "version": 3
   },
   "file_extension": ".py",
   "mimetype": "text/x-python",
   "name": "python",
   "nbconvert_exporter": "python",
   "pygments_lexer": "ipython3",
   "version": "3.9.5"
  }
 },
 "nbformat": 4,
 "nbformat_minor": 5
}
