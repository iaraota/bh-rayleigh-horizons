{
 "cells": [
  {
   "cell_type": "markdown",
   "id": "conservative-triangle",
   "metadata": {},
   "source": [
    "Compute the derivative relative to the QNM parameters of the Fourier Transform of the of the QNM waveform, \n",
    "<!--  -->\n",
    "$$\\Re(h) = A_{\\ell mn}\\exp(-|t|/\\tau_{\\ell mn}\\cos(2\\pi f_{\\ell mn} - \\phi_{\\ell mn}),$$ \n",
    "$$\\Im(h) = A_{\\ell mn}\\exp(-|t|/\\tau_{\\ell mn}\\sin(2\\pi f_{\\ell mn} - \\phi_{\\ell mn}),$$ \n",
    "<!--  -->\n",
    "The $|t|$ is relative to the Flanagan and Hughes prescription (see E. E. Flanagan and S. A. Hughes, Phys. Rev. D 57, 4535 (1998) https://arxiv.org/pdf/gr-qc/9701039.pdf or eq. (3.5) of E. Berti, V. Cardoso, and C. M. Will, Phys. Rev. D 73, 064030 (2006), https://arxiv.org/pdf/gr-qc/0512160.pdf)\n"
   ]
  },
  {
   "cell_type": "code",
   "execution_count": 1,
   "id": "floppy-henry",
   "metadata": {},
   "outputs": [],
   "source": [
    "# import library for symbolic mathematics\n",
    "from sympy import *"
   ]
  },
  {
   "cell_type": "markdown",
   "id": "neural-pencil",
   "metadata": {},
   "source": [
    "from page 8 of https://arxiv.org/pdf/gr-qc/0512160.pdf:\n",
    "\n",
    "The Fourier transform of the waveform can be computed using the elementary relation\n",
    "$$\n",
    "\\int_{-\\infty}^{+\\infty} e^{i \\omega t}\\left(e^{\\pm i \\omega_{\\ell m n}t - |t|/\\tau_{\\ell m n}} \\right)dt = \\frac{2/\\tau_{\\ell m n}}{1/\\tau_{\\ell m n}^2 + (\\omega \\pm \\omega_{\\ell m n})^2} \\equiv 2 b_\\pm\n",
    "$$\n",
    "\n",
    "\n",
    "Divide by factor $2$ to account for the doubling prescription.\n",
    "$$\n",
    "\\tilde{h}_+ = \\Re(\\tilde{h}) = \\frac{A_{\\ell m n}}{2}\\left[e^{-i\\phi_{\\ell m n}}b_+ + e^{i\\phi_{\\ell m n}}b_- \\right]\n",
    "$$\n",
    "$$\n",
    "\\tilde{h}_\\times = \\Im(\\tilde{h}) = \\frac{i A_{\\ell m n}}{2}\\left[-e^{-i\\phi_{\\ell m n}}b_+ + e^{i\\phi_{\\ell m n}}b_- \\right]\n",
    "$$\n",
    "\n",
    "For frequency in Herz: $\\omega \\rightarrow 2\\pi f$"
   ]
  },
  {
   "cell_type": "code",
   "execution_count": 2,
   "id": "ready-salvation",
   "metadata": {},
   "outputs": [],
   "source": [
    "# define b_\\pm\n",
    "\n",
    "def b_p(freq_array:list, f_lmn, tau_lmn):\n",
    "    return tau_lmn/(1 + ((2*pi*freq_array + 2*pi*f_lmn)*tau_lmn)**2)\n",
    "\n",
    "def b_m(freq_array:list, f_lmn, tau_lmn):\n",
    "    return tau_lmn/(1 + ((2*pi*freq_array - 2*pi*f_lmn)*tau_lmn)**2)"
   ]
  },
  {
   "cell_type": "code",
   "execution_count": 3,
   "id": "reasonable-amsterdam",
   "metadata": {},
   "outputs": [],
   "source": [
    "# define the Fourier transform of each polirization\n",
    "\n",
    "def h_real(freq_array:list, A_lmn, phi_lmn, f_lmn, Q_lmn):\n",
    "    tau_lmn = Q_lmn/(f_lmn*pi)\n",
    "    return (A_lmn/2)*(\n",
    "        exp(-1j*phi_lmn)*b_p(freq_array, f_lmn, tau_lmn)\n",
    "        + exp(1j*phi_lmn)*b_m(freq_array, f_lmn, tau_lmn) \n",
    "    )\n",
    "\n",
    "def h_imag(freq_array:list, A_lmn, phi_lmn, f_lmn, Q_lmn):\n",
    "    tau_lmn = Q_lmn/(f_lmn*pi)\n",
    "    return 1j*(A_lmn/2)*(\n",
    "        - exp(-1j*phi_lmn)*b_p(freq_array, f_lmn, tau_lmn)\n",
    "        + exp(1j*phi_lmn)*b_m(freq_array, f_lmn, tau_lmn) \n",
    "    )"
   ]
  },
  {
   "cell_type": "markdown",
   "id": "attended-museum",
   "metadata": {},
   "source": [
    "Create Sympy components to compute the partial derivatives"
   ]
  },
  {
   "cell_type": "code",
   "execution_count": 4,
   "id": "affected-outline",
   "metadata": {},
   "outputs": [],
   "source": [
    "# Sample frequencies array as Sympy symbols\n",
    "f_array = symbols('f_array', real = True)\n",
    "\n",
    "# QNM parameters as Sympy symbols\n",
    "A_lmn, phi_lmn, f_lmn, Q_lmn = symbols('A_lmn phi_lmn f_lmn Q_lmn', real = True)\n",
    "\n",
    "# Sympy fnctions of the Fourier transforms\n",
    "h_Re = h_real(f_array, A_lmn, phi_lmn, f_lmn, Q_lmn)\n",
    "h_Im = h_imag(f_array, A_lmn, phi_lmn, f_lmn, Q_lmn)"
   ]
  },
  {
   "cell_type": "markdown",
   "id": "suitable-genome",
   "metadata": {},
   "source": [
    "### Compute partial derivatives of the plus polarization"
   ]
  },
  {
   "cell_type": "code",
   "execution_count": 5,
   "id": "sufficient-hungarian",
   "metadata": {},
   "outputs": [
    {
     "data": {
      "text/latex": [
       "$\\displaystyle \\frac{A_{lmn} \\left(\\frac{Q_{lmn} \\left(- \\frac{4 Q_{lmn}^{2} \\left(2 \\pi f_{array} + 2 \\pi f_{lmn}\\right)}{\\pi f_{lmn}^{2}} + \\frac{2 Q_{lmn}^{2} \\left(2 \\pi f_{array} + 2 \\pi f_{lmn}\\right)^{2}}{\\pi^{2} f_{lmn}^{3}}\\right) e^{- 1.0 i \\phi_{lmn}}}{\\pi f_{lmn} \\left(\\frac{Q_{lmn}^{2} \\left(2 \\pi f_{array} + 2 \\pi f_{lmn}\\right)^{2}}{\\pi^{2} f_{lmn}^{2}} + 1\\right)^{2}} + \\frac{Q_{lmn} \\left(\\frac{4 Q_{lmn}^{2} \\left(2 \\pi f_{array} - 2 \\pi f_{lmn}\\right)}{\\pi f_{lmn}^{2}} + \\frac{2 Q_{lmn}^{2} \\left(2 \\pi f_{array} - 2 \\pi f_{lmn}\\right)^{2}}{\\pi^{2} f_{lmn}^{3}}\\right) e^{1.0 i \\phi_{lmn}}}{\\pi f_{lmn} \\left(\\frac{Q_{lmn}^{2} \\left(2 \\pi f_{array} - 2 \\pi f_{lmn}\\right)^{2}}{\\pi^{2} f_{lmn}^{2}} + 1\\right)^{2}} - \\frac{Q_{lmn} e^{- 1.0 i \\phi_{lmn}}}{\\pi f_{lmn}^{2} \\left(\\frac{Q_{lmn}^{2} \\left(2 \\pi f_{array} + 2 \\pi f_{lmn}\\right)^{2}}{\\pi^{2} f_{lmn}^{2}} + 1\\right)} - \\frac{Q_{lmn} e^{1.0 i \\phi_{lmn}}}{\\pi f_{lmn}^{2} \\left(\\frac{Q_{lmn}^{2} \\left(2 \\pi f_{array} - 2 \\pi f_{lmn}\\right)^{2}}{\\pi^{2} f_{lmn}^{2}} + 1\\right)}\\right)}{2}$"
      ],
      "text/plain": [
       "A_lmn*(Q_lmn*(-4*Q_lmn**2*(2*pi*f_array + 2*pi*f_lmn)/(pi*f_lmn**2) + 2*Q_lmn**2*(2*pi*f_array + 2*pi*f_lmn)**2/(pi**2*f_lmn**3))*exp(-1.0*I*phi_lmn)/(pi*f_lmn*(Q_lmn**2*(2*pi*f_array + 2*pi*f_lmn)**2/(pi**2*f_lmn**2) + 1)**2) + Q_lmn*(4*Q_lmn**2*(2*pi*f_array - 2*pi*f_lmn)/(pi*f_lmn**2) + 2*Q_lmn**2*(2*pi*f_array - 2*pi*f_lmn)**2/(pi**2*f_lmn**3))*exp(1.0*I*phi_lmn)/(pi*f_lmn*(Q_lmn**2*(2*pi*f_array - 2*pi*f_lmn)**2/(pi**2*f_lmn**2) + 1)**2) - Q_lmn*exp(-1.0*I*phi_lmn)/(pi*f_lmn**2*(Q_lmn**2*(2*pi*f_array + 2*pi*f_lmn)**2/(pi**2*f_lmn**2) + 1)) - Q_lmn*exp(1.0*I*phi_lmn)/(pi*f_lmn**2*(Q_lmn**2*(2*pi*f_array - 2*pi*f_lmn)**2/(pi**2*f_lmn**2) + 1)))/2"
      ]
     },
     "execution_count": 5,
     "metadata": {},
     "output_type": "execute_result"
    }
   ],
   "source": [
    "diff(h_Re, f_lmn)"
   ]
  },
  {
   "cell_type": "code",
   "execution_count": 6,
   "id": "biblical-newman",
   "metadata": {},
   "outputs": [
    {
     "data": {
      "text/latex": [
       "$\\displaystyle \\frac{A_{lmn} \\left(- \\frac{2 Q_{lmn}^{2} \\left(2 \\pi f_{array} - 2 \\pi f_{lmn}\\right)^{2} e^{1.0 i \\phi_{lmn}}}{\\pi^{3} f_{lmn}^{3} \\left(\\frac{Q_{lmn}^{2} \\left(2 \\pi f_{array} - 2 \\pi f_{lmn}\\right)^{2}}{\\pi^{2} f_{lmn}^{2}} + 1\\right)^{2}} - \\frac{2 Q_{lmn}^{2} \\left(2 \\pi f_{array} + 2 \\pi f_{lmn}\\right)^{2} e^{- 1.0 i \\phi_{lmn}}}{\\pi^{3} f_{lmn}^{3} \\left(\\frac{Q_{lmn}^{2} \\left(2 \\pi f_{array} + 2 \\pi f_{lmn}\\right)^{2}}{\\pi^{2} f_{lmn}^{2}} + 1\\right)^{2}} + \\frac{e^{- 1.0 i \\phi_{lmn}}}{\\pi f_{lmn} \\left(\\frac{Q_{lmn}^{2} \\left(2 \\pi f_{array} + 2 \\pi f_{lmn}\\right)^{2}}{\\pi^{2} f_{lmn}^{2}} + 1\\right)} + \\frac{e^{1.0 i \\phi_{lmn}}}{\\pi f_{lmn} \\left(\\frac{Q_{lmn}^{2} \\left(2 \\pi f_{array} - 2 \\pi f_{lmn}\\right)^{2}}{\\pi^{2} f_{lmn}^{2}} + 1\\right)}\\right)}{2}$"
      ],
      "text/plain": [
       "A_lmn*(-2*Q_lmn**2*(2*pi*f_array - 2*pi*f_lmn)**2*exp(1.0*I*phi_lmn)/(pi**3*f_lmn**3*(Q_lmn**2*(2*pi*f_array - 2*pi*f_lmn)**2/(pi**2*f_lmn**2) + 1)**2) - 2*Q_lmn**2*(2*pi*f_array + 2*pi*f_lmn)**2*exp(-1.0*I*phi_lmn)/(pi**3*f_lmn**3*(Q_lmn**2*(2*pi*f_array + 2*pi*f_lmn)**2/(pi**2*f_lmn**2) + 1)**2) + exp(-1.0*I*phi_lmn)/(pi*f_lmn*(Q_lmn**2*(2*pi*f_array + 2*pi*f_lmn)**2/(pi**2*f_lmn**2) + 1)) + exp(1.0*I*phi_lmn)/(pi*f_lmn*(Q_lmn**2*(2*pi*f_array - 2*pi*f_lmn)**2/(pi**2*f_lmn**2) + 1)))/2"
      ]
     },
     "execution_count": 6,
     "metadata": {},
     "output_type": "execute_result"
    }
   ],
   "source": [
    "diff(h_Re, Q_lmn)"
   ]
  },
  {
   "cell_type": "code",
   "execution_count": 7,
   "id": "fitted-treasury",
   "metadata": {},
   "outputs": [
    {
     "data": {
      "text/latex": [
       "$\\displaystyle \\frac{A_{lmn} \\left(- \\frac{1.0 i Q_{lmn} e^{- 1.0 i \\phi_{lmn}}}{\\pi f_{lmn} \\left(\\frac{Q_{lmn}^{2} \\left(2 \\pi f_{array} + 2 \\pi f_{lmn}\\right)^{2}}{\\pi^{2} f_{lmn}^{2}} + 1\\right)} + \\frac{1.0 i Q_{lmn} e^{1.0 i \\phi_{lmn}}}{\\pi f_{lmn} \\left(\\frac{Q_{lmn}^{2} \\left(2 \\pi f_{array} - 2 \\pi f_{lmn}\\right)^{2}}{\\pi^{2} f_{lmn}^{2}} + 1\\right)}\\right)}{2}$"
      ],
      "text/plain": [
       "A_lmn*(-1.0*I*Q_lmn*exp(-1.0*I*phi_lmn)/(pi*f_lmn*(Q_lmn**2*(2*pi*f_array + 2*pi*f_lmn)**2/(pi**2*f_lmn**2) + 1)) + 1.0*I*Q_lmn*exp(1.0*I*phi_lmn)/(pi*f_lmn*(Q_lmn**2*(2*pi*f_array - 2*pi*f_lmn)**2/(pi**2*f_lmn**2) + 1)))/2"
      ]
     },
     "execution_count": 7,
     "metadata": {},
     "output_type": "execute_result"
    }
   ],
   "source": [
    "diff(h_Re, phi_lmn)"
   ]
  },
  {
   "cell_type": "code",
   "execution_count": 8,
   "id": "hundred-donor",
   "metadata": {},
   "outputs": [
    {
     "data": {
      "text/latex": [
       "$\\displaystyle \\frac{Q_{lmn} e^{- 1.0 i \\phi_{lmn}}}{2 \\pi f_{lmn} \\left(\\frac{Q_{lmn}^{2} \\left(2 \\pi f_{array} + 2 \\pi f_{lmn}\\right)^{2}}{\\pi^{2} f_{lmn}^{2}} + 1\\right)} + \\frac{Q_{lmn} e^{1.0 i \\phi_{lmn}}}{2 \\pi f_{lmn} \\left(\\frac{Q_{lmn}^{2} \\left(2 \\pi f_{array} - 2 \\pi f_{lmn}\\right)^{2}}{\\pi^{2} f_{lmn}^{2}} + 1\\right)}$"
      ],
      "text/plain": [
       "Q_lmn*exp(-1.0*I*phi_lmn)/(2*pi*f_lmn*(Q_lmn**2*(2*pi*f_array + 2*pi*f_lmn)**2/(pi**2*f_lmn**2) + 1)) + Q_lmn*exp(1.0*I*phi_lmn)/(2*pi*f_lmn*(Q_lmn**2*(2*pi*f_array - 2*pi*f_lmn)**2/(pi**2*f_lmn**2) + 1))"
      ]
     },
     "execution_count": 8,
     "metadata": {},
     "output_type": "execute_result"
    }
   ],
   "source": [
    "diff(h_Re, A_lmn)"
   ]
  },
  {
   "cell_type": "markdown",
   "id": "prime-formation",
   "metadata": {},
   "source": [
    "### Compute partial derivatives of the cross polarization"
   ]
  },
  {
   "cell_type": "code",
   "execution_count": 9,
   "id": "continuous-cross",
   "metadata": {},
   "outputs": [
    {
     "data": {
      "text/latex": [
       "$\\displaystyle 0.5 i A_{lmn} \\left(- \\frac{Q_{lmn} \\left(- \\frac{4 Q_{lmn}^{2} \\left(2 \\pi f_{array} + 2 \\pi f_{lmn}\\right)}{\\pi f_{lmn}^{2}} + \\frac{2 Q_{lmn}^{2} \\left(2 \\pi f_{array} + 2 \\pi f_{lmn}\\right)^{2}}{\\pi^{2} f_{lmn}^{3}}\\right) e^{- 1.0 i \\phi_{lmn}}}{\\pi f_{lmn} \\left(\\frac{Q_{lmn}^{2} \\left(2 \\pi f_{array} + 2 \\pi f_{lmn}\\right)^{2}}{\\pi^{2} f_{lmn}^{2}} + 1\\right)^{2}} + \\frac{Q_{lmn} \\left(\\frac{4 Q_{lmn}^{2} \\left(2 \\pi f_{array} - 2 \\pi f_{lmn}\\right)}{\\pi f_{lmn}^{2}} + \\frac{2 Q_{lmn}^{2} \\left(2 \\pi f_{array} - 2 \\pi f_{lmn}\\right)^{2}}{\\pi^{2} f_{lmn}^{3}}\\right) e^{1.0 i \\phi_{lmn}}}{\\pi f_{lmn} \\left(\\frac{Q_{lmn}^{2} \\left(2 \\pi f_{array} - 2 \\pi f_{lmn}\\right)^{2}}{\\pi^{2} f_{lmn}^{2}} + 1\\right)^{2}} + \\frac{Q_{lmn} e^{- 1.0 i \\phi_{lmn}}}{\\pi f_{lmn}^{2} \\left(\\frac{Q_{lmn}^{2} \\left(2 \\pi f_{array} + 2 \\pi f_{lmn}\\right)^{2}}{\\pi^{2} f_{lmn}^{2}} + 1\\right)} - \\frac{Q_{lmn} e^{1.0 i \\phi_{lmn}}}{\\pi f_{lmn}^{2} \\left(\\frac{Q_{lmn}^{2} \\left(2 \\pi f_{array} - 2 \\pi f_{lmn}\\right)^{2}}{\\pi^{2} f_{lmn}^{2}} + 1\\right)}\\right)$"
      ],
      "text/plain": [
       "0.5*I*A_lmn*(-Q_lmn*(-4*Q_lmn**2*(2*pi*f_array + 2*pi*f_lmn)/(pi*f_lmn**2) + 2*Q_lmn**2*(2*pi*f_array + 2*pi*f_lmn)**2/(pi**2*f_lmn**3))*exp(-1.0*I*phi_lmn)/(pi*f_lmn*(Q_lmn**2*(2*pi*f_array + 2*pi*f_lmn)**2/(pi**2*f_lmn**2) + 1)**2) + Q_lmn*(4*Q_lmn**2*(2*pi*f_array - 2*pi*f_lmn)/(pi*f_lmn**2) + 2*Q_lmn**2*(2*pi*f_array - 2*pi*f_lmn)**2/(pi**2*f_lmn**3))*exp(1.0*I*phi_lmn)/(pi*f_lmn*(Q_lmn**2*(2*pi*f_array - 2*pi*f_lmn)**2/(pi**2*f_lmn**2) + 1)**2) + Q_lmn*exp(-1.0*I*phi_lmn)/(pi*f_lmn**2*(Q_lmn**2*(2*pi*f_array + 2*pi*f_lmn)**2/(pi**2*f_lmn**2) + 1)) - Q_lmn*exp(1.0*I*phi_lmn)/(pi*f_lmn**2*(Q_lmn**2*(2*pi*f_array - 2*pi*f_lmn)**2/(pi**2*f_lmn**2) + 1)))"
      ]
     },
     "execution_count": 9,
     "metadata": {},
     "output_type": "execute_result"
    }
   ],
   "source": [
    "diff(h_Im, f_lmn)"
   ]
  },
  {
   "cell_type": "code",
   "execution_count": 10,
   "id": "informational-roman",
   "metadata": {},
   "outputs": [
    {
     "data": {
      "text/latex": [
       "$\\displaystyle 0.5 i A_{lmn} \\left(- \\frac{2 Q_{lmn}^{2} \\left(2 \\pi f_{array} - 2 \\pi f_{lmn}\\right)^{2} e^{1.0 i \\phi_{lmn}}}{\\pi^{3} f_{lmn}^{3} \\left(\\frac{Q_{lmn}^{2} \\left(2 \\pi f_{array} - 2 \\pi f_{lmn}\\right)^{2}}{\\pi^{2} f_{lmn}^{2}} + 1\\right)^{2}} + \\frac{2 Q_{lmn}^{2} \\left(2 \\pi f_{array} + 2 \\pi f_{lmn}\\right)^{2} e^{- 1.0 i \\phi_{lmn}}}{\\pi^{3} f_{lmn}^{3} \\left(\\frac{Q_{lmn}^{2} \\left(2 \\pi f_{array} + 2 \\pi f_{lmn}\\right)^{2}}{\\pi^{2} f_{lmn}^{2}} + 1\\right)^{2}} - \\frac{e^{- 1.0 i \\phi_{lmn}}}{\\pi f_{lmn} \\left(\\frac{Q_{lmn}^{2} \\left(2 \\pi f_{array} + 2 \\pi f_{lmn}\\right)^{2}}{\\pi^{2} f_{lmn}^{2}} + 1\\right)} + \\frac{e^{1.0 i \\phi_{lmn}}}{\\pi f_{lmn} \\left(\\frac{Q_{lmn}^{2} \\left(2 \\pi f_{array} - 2 \\pi f_{lmn}\\right)^{2}}{\\pi^{2} f_{lmn}^{2}} + 1\\right)}\\right)$"
      ],
      "text/plain": [
       "0.5*I*A_lmn*(-2*Q_lmn**2*(2*pi*f_array - 2*pi*f_lmn)**2*exp(1.0*I*phi_lmn)/(pi**3*f_lmn**3*(Q_lmn**2*(2*pi*f_array - 2*pi*f_lmn)**2/(pi**2*f_lmn**2) + 1)**2) + 2*Q_lmn**2*(2*pi*f_array + 2*pi*f_lmn)**2*exp(-1.0*I*phi_lmn)/(pi**3*f_lmn**3*(Q_lmn**2*(2*pi*f_array + 2*pi*f_lmn)**2/(pi**2*f_lmn**2) + 1)**2) - exp(-1.0*I*phi_lmn)/(pi*f_lmn*(Q_lmn**2*(2*pi*f_array + 2*pi*f_lmn)**2/(pi**2*f_lmn**2) + 1)) + exp(1.0*I*phi_lmn)/(pi*f_lmn*(Q_lmn**2*(2*pi*f_array - 2*pi*f_lmn)**2/(pi**2*f_lmn**2) + 1)))"
      ]
     },
     "execution_count": 10,
     "metadata": {},
     "output_type": "execute_result"
    }
   ],
   "source": [
    "diff(h_Im, Q_lmn)"
   ]
  },
  {
   "cell_type": "code",
   "execution_count": 11,
   "id": "insured-gardening",
   "metadata": {},
   "outputs": [
    {
     "data": {
      "text/latex": [
       "$\\displaystyle 0.5 i A_{lmn} \\left(\\frac{1.0 i Q_{lmn} e^{- 1.0 i \\phi_{lmn}}}{\\pi f_{lmn} \\left(\\frac{Q_{lmn}^{2} \\left(2 \\pi f_{array} + 2 \\pi f_{lmn}\\right)^{2}}{\\pi^{2} f_{lmn}^{2}} + 1\\right)} + \\frac{1.0 i Q_{lmn} e^{1.0 i \\phi_{lmn}}}{\\pi f_{lmn} \\left(\\frac{Q_{lmn}^{2} \\left(2 \\pi f_{array} - 2 \\pi f_{lmn}\\right)^{2}}{\\pi^{2} f_{lmn}^{2}} + 1\\right)}\\right)$"
      ],
      "text/plain": [
       "0.5*I*A_lmn*(1.0*I*Q_lmn*exp(-1.0*I*phi_lmn)/(pi*f_lmn*(Q_lmn**2*(2*pi*f_array + 2*pi*f_lmn)**2/(pi**2*f_lmn**2) + 1)) + 1.0*I*Q_lmn*exp(1.0*I*phi_lmn)/(pi*f_lmn*(Q_lmn**2*(2*pi*f_array - 2*pi*f_lmn)**2/(pi**2*f_lmn**2) + 1)))"
      ]
     },
     "execution_count": 11,
     "metadata": {},
     "output_type": "execute_result"
    }
   ],
   "source": [
    "diff(h_Im, phi_lmn)"
   ]
  },
  {
   "cell_type": "code",
   "execution_count": 12,
   "id": "acute-indiana",
   "metadata": {},
   "outputs": [
    {
     "data": {
      "text/latex": [
       "$\\displaystyle 0.5 i \\left(- \\frac{Q_{lmn} e^{- 1.0 i \\phi_{lmn}}}{\\pi f_{lmn} \\left(\\frac{Q_{lmn}^{2} \\left(2 \\pi f_{array} + 2 \\pi f_{lmn}\\right)^{2}}{\\pi^{2} f_{lmn}^{2}} + 1\\right)} + \\frac{Q_{lmn} e^{1.0 i \\phi_{lmn}}}{\\pi f_{lmn} \\left(\\frac{Q_{lmn}^{2} \\left(2 \\pi f_{array} - 2 \\pi f_{lmn}\\right)^{2}}{\\pi^{2} f_{lmn}^{2}} + 1\\right)}\\right)$"
      ],
      "text/plain": [
       "0.5*I*(-Q_lmn*exp(-1.0*I*phi_lmn)/(pi*f_lmn*(Q_lmn**2*(2*pi*f_array + 2*pi*f_lmn)**2/(pi**2*f_lmn**2) + 1)) + Q_lmn*exp(1.0*I*phi_lmn)/(pi*f_lmn*(Q_lmn**2*(2*pi*f_array - 2*pi*f_lmn)**2/(pi**2*f_lmn**2) + 1)))"
      ]
     },
     "execution_count": 12,
     "metadata": {},
     "output_type": "execute_result"
    }
   ],
   "source": [
    "diff(h_Im, A_lmn)"
   ]
  },
  {
   "cell_type": "markdown",
   "id": "unique-cliff",
   "metadata": {},
   "source": [
    "## Get results in python syntax\n",
    "(change 1.0*I to 1j and pi to lib.pi)"
   ]
  },
  {
   "cell_type": "code",
   "execution_count": 13,
   "id": "dental-damage",
   "metadata": {},
   "outputs": [
    {
     "name": "stdout",
     "output_type": "stream",
     "text": [
      "A_lmn\n",
      "real polarization\n",
      "\n",
      "Q_lmn*exp(-1.0*I*phi_lmn)/(2*pi*f_lmn*(Q_lmn**2*(2*pi*f_array + 2*pi*f_lmn)**2/(pi**2*f_lmn**2) + 1)) + Q_lmn*exp(1.0*I*phi_lmn)/(2*pi*f_lmn*(Q_lmn**2*(2*pi*f_array - 2*pi*f_lmn)**2/(pi**2*f_lmn**2) + 1)) \n",
      "\n",
      "imaginary polarization\n",
      "\n",
      "0.5*I*(-Q_lmn*exp(-1.0*I*phi_lmn)/(pi*f_lmn*(Q_lmn**2*(2*pi*f_array + 2*pi*f_lmn)**2/(pi**2*f_lmn**2) + 1)) + Q_lmn*exp(1.0*I*phi_lmn)/(pi*f_lmn*(Q_lmn**2*(2*pi*f_array - 2*pi*f_lmn)**2/(pi**2*f_lmn**2) + 1))) \n",
      "\n",
      "phi_lmn\n",
      "real polarization\n",
      "\n",
      "A_lmn*(-1.0*I*Q_lmn*exp(-1.0*I*phi_lmn)/(pi*f_lmn*(Q_lmn**2*(2*pi*f_array + 2*pi*f_lmn)**2/(pi**2*f_lmn**2) + 1)) + 1.0*I*Q_lmn*exp(1.0*I*phi_lmn)/(pi*f_lmn*(Q_lmn**2*(2*pi*f_array - 2*pi*f_lmn)**2/(pi**2*f_lmn**2) + 1)))/2 \n",
      "\n",
      "imaginary polarization\n",
      "\n",
      "0.5*I*A_lmn*(1.0*I*Q_lmn*exp(-1.0*I*phi_lmn)/(pi*f_lmn*(Q_lmn**2*(2*pi*f_array + 2*pi*f_lmn)**2/(pi**2*f_lmn**2) + 1)) + 1.0*I*Q_lmn*exp(1.0*I*phi_lmn)/(pi*f_lmn*(Q_lmn**2*(2*pi*f_array - 2*pi*f_lmn)**2/(pi**2*f_lmn**2) + 1))) \n",
      "\n",
      "f_lmn\n",
      "real polarization\n",
      "\n",
      "A_lmn*(Q_lmn*(-4*Q_lmn**2*(2*pi*f_array + 2*pi*f_lmn)/(pi*f_lmn**2) + 2*Q_lmn**2*(2*pi*f_array + 2*pi*f_lmn)**2/(pi**2*f_lmn**3))*exp(-1.0*I*phi_lmn)/(pi*f_lmn*(Q_lmn**2*(2*pi*f_array + 2*pi*f_lmn)**2/(pi**2*f_lmn**2) + 1)**2) + Q_lmn*(4*Q_lmn**2*(2*pi*f_array - 2*pi*f_lmn)/(pi*f_lmn**2) + 2*Q_lmn**2*(2*pi*f_array - 2*pi*f_lmn)**2/(pi**2*f_lmn**3))*exp(1.0*I*phi_lmn)/(pi*f_lmn*(Q_lmn**2*(2*pi*f_array - 2*pi*f_lmn)**2/(pi**2*f_lmn**2) + 1)**2) - Q_lmn*exp(-1.0*I*phi_lmn)/(pi*f_lmn**2*(Q_lmn**2*(2*pi*f_array + 2*pi*f_lmn)**2/(pi**2*f_lmn**2) + 1)) - Q_lmn*exp(1.0*I*phi_lmn)/(pi*f_lmn**2*(Q_lmn**2*(2*pi*f_array - 2*pi*f_lmn)**2/(pi**2*f_lmn**2) + 1)))/2 \n",
      "\n",
      "imaginary polarization\n",
      "\n",
      "0.5*I*A_lmn*(-Q_lmn*(-4*Q_lmn**2*(2*pi*f_array + 2*pi*f_lmn)/(pi*f_lmn**2) + 2*Q_lmn**2*(2*pi*f_array + 2*pi*f_lmn)**2/(pi**2*f_lmn**3))*exp(-1.0*I*phi_lmn)/(pi*f_lmn*(Q_lmn**2*(2*pi*f_array + 2*pi*f_lmn)**2/(pi**2*f_lmn**2) + 1)**2) + Q_lmn*(4*Q_lmn**2*(2*pi*f_array - 2*pi*f_lmn)/(pi*f_lmn**2) + 2*Q_lmn**2*(2*pi*f_array - 2*pi*f_lmn)**2/(pi**2*f_lmn**3))*exp(1.0*I*phi_lmn)/(pi*f_lmn*(Q_lmn**2*(2*pi*f_array - 2*pi*f_lmn)**2/(pi**2*f_lmn**2) + 1)**2) + Q_lmn*exp(-1.0*I*phi_lmn)/(pi*f_lmn**2*(Q_lmn**2*(2*pi*f_array + 2*pi*f_lmn)**2/(pi**2*f_lmn**2) + 1)) - Q_lmn*exp(1.0*I*phi_lmn)/(pi*f_lmn**2*(Q_lmn**2*(2*pi*f_array - 2*pi*f_lmn)**2/(pi**2*f_lmn**2) + 1))) \n",
      "\n",
      "Q_lmn\n",
      "real polarization\n",
      "\n",
      "A_lmn*(-2*Q_lmn**2*(2*pi*f_array - 2*pi*f_lmn)**2*exp(1.0*I*phi_lmn)/(pi**3*f_lmn**3*(Q_lmn**2*(2*pi*f_array - 2*pi*f_lmn)**2/(pi**2*f_lmn**2) + 1)**2) - 2*Q_lmn**2*(2*pi*f_array + 2*pi*f_lmn)**2*exp(-1.0*I*phi_lmn)/(pi**3*f_lmn**3*(Q_lmn**2*(2*pi*f_array + 2*pi*f_lmn)**2/(pi**2*f_lmn**2) + 1)**2) + exp(-1.0*I*phi_lmn)/(pi*f_lmn*(Q_lmn**2*(2*pi*f_array + 2*pi*f_lmn)**2/(pi**2*f_lmn**2) + 1)) + exp(1.0*I*phi_lmn)/(pi*f_lmn*(Q_lmn**2*(2*pi*f_array - 2*pi*f_lmn)**2/(pi**2*f_lmn**2) + 1)))/2 \n",
      "\n",
      "imaginary polarization\n",
      "\n",
      "0.5*I*A_lmn*(-2*Q_lmn**2*(2*pi*f_array - 2*pi*f_lmn)**2*exp(1.0*I*phi_lmn)/(pi**3*f_lmn**3*(Q_lmn**2*(2*pi*f_array - 2*pi*f_lmn)**2/(pi**2*f_lmn**2) + 1)**2) + 2*Q_lmn**2*(2*pi*f_array + 2*pi*f_lmn)**2*exp(-1.0*I*phi_lmn)/(pi**3*f_lmn**3*(Q_lmn**2*(2*pi*f_array + 2*pi*f_lmn)**2/(pi**2*f_lmn**2) + 1)**2) - exp(-1.0*I*phi_lmn)/(pi*f_lmn*(Q_lmn**2*(2*pi*f_array + 2*pi*f_lmn)**2/(pi**2*f_lmn**2) + 1)) + exp(1.0*I*phi_lmn)/(pi*f_lmn*(Q_lmn**2*(2*pi*f_array - 2*pi*f_lmn)**2/(pi**2*f_lmn**2) + 1))) \n",
      "\n"
     ]
    }
   ],
   "source": [
    "for par in (A_lmn, phi_lmn, f_lmn, Q_lmn):\n",
    "    print(par)\n",
    "    print('real polarization\\n')\n",
    "    print(diff(h_Re, par), '\\n')\n",
    "    print('imaginary polarization\\n')\n",
    "    print(diff(h_Im, par), '\\n')\n",
    "    "
   ]
  },
  {
   "cell_type": "markdown",
   "id": "better-smooth",
   "metadata": {},
   "source": [
    "# Two modes waveform\n",
    "The waveform of two QNMs:\n",
    "<!--  -->\n",
    "$$\n",
    "h(t) = A_{0}[\\exp[-t/\\tau_{0} + i(2\\pi f_{0} - \\phi_{0})] + R\\exp[-t/\\tau_{1} + i(2\\pi f_{1} - \\phi_{1})]],\n",
    "$$\n",
    "where $R = A_{1}/A_{0}$ is the relative amplitude between the modes."
   ]
  },
  {
   "cell_type": "code",
   "execution_count": 14,
   "id": "successful-trunk",
   "metadata": {},
   "outputs": [],
   "source": [
    "# define the Fourier transform of each polirization\n",
    "\n",
    "def h_two_re(freq_array:list, A_0, phi_0, f_0, Q_0, R, phi_1, f_1, Q_1):\n",
    "    tau_0 = Q_0/(f_0*pi)\n",
    "    tau_1 = Q_1/(f_1*pi)\n",
    "    return (A_0/2)*(\n",
    "        exp(-1j*phi_0)*b_p(freq_array, f_0, tau_0)\n",
    "        + exp(1j*phi_0)*b_m(freq_array, f_0, tau_0) \n",
    "        + R*(\n",
    "        exp(-1j*phi_1)*b_p(freq_array, f_1, tau_1)\n",
    "        + exp(1j*phi_1)*b_m(freq_array, f_1, tau_1) )\n",
    "    )\n",
    "\n",
    "def h_two_im(freq_array:list, A_0, phi_0, f_0, Q_0, R, phi_1, f_1, Q_1):\n",
    "    tau_0 = Q_0/(f_0*pi)\n",
    "    tau_1 = Q_1/(f_1*pi)\n",
    "    return 1j*(A_0/2)*(\n",
    "        - exp(-1j*phi_0)*b_p(freq_array, f_0, tau_0)\n",
    "        + exp(1j*phi_0)*b_m(freq_array, f_0, tau_0) \n",
    "        +R*(\n",
    "        - exp(-1j*phi_1)*b_p(freq_array, f_1, tau_1)\n",
    "        + exp(1j*phi_1)*b_m(freq_array, f_1, tau_1) )\n",
    "    )"
   ]
  },
  {
   "cell_type": "code",
   "execution_count": 15,
   "id": "false-burning",
   "metadata": {},
   "outputs": [],
   "source": [
    "# Sample frequencies array as Sympy symbols\n",
    "f_array = symbols('f_array', real = True)\n",
    "\n",
    "# QNM parameters as Sympy symbols\n",
    "A, phi_0, f_0, Q_0 = symbols('A phi_0 f_0 Q_0', real = True)\n",
    "R, phi_1, f_1, Q_1 = symbols('R phi_1 f_1 Q_1', real = True)\n",
    "\n",
    "# Sympy fnctions of the Fourier transforms\n",
    "h_two_Re = h_two_re(f_array, A, phi_0, f_0, Q_0, R, phi_1, f_1, Q_1)\n",
    "h_two_Im = h_two_im(f_array, A, phi_0, f_0, Q_0, R, phi_1, f_1, Q_1)"
   ]
  },
  {
   "cell_type": "code",
   "execution_count": 16,
   "id": "unlikely-rover",
   "metadata": {},
   "outputs": [
    {
     "name": "stdout",
     "output_type": "stream",
     "text": [
      "A\n",
      "real polarization\n",
      "\n",
      "Q_0*exp(-1.0*I*phi_0)/(2*pi*f_0*(Q_0**2*(2*pi*f_0 + 2*pi*f_array)**2/(pi**2*f_0**2) + 1)) + Q_0*exp(1.0*I*phi_0)/(2*pi*f_0*(Q_0**2*(-2*pi*f_0 + 2*pi*f_array)**2/(pi**2*f_0**2) + 1)) + R*(Q_1*exp(-1.0*I*phi_1)/(pi*f_1*(Q_1**2*(2*pi*f_1 + 2*pi*f_array)**2/(pi**2*f_1**2) + 1)) + Q_1*exp(1.0*I*phi_1)/(pi*f_1*(Q_1**2*(-2*pi*f_1 + 2*pi*f_array)**2/(pi**2*f_1**2) + 1)))/2 \n",
      "\n",
      "imaginary polarization\n",
      "\n",
      "0.5*I*(-Q_0*exp(-1.0*I*phi_0)/(pi*f_0*(Q_0**2*(2*pi*f_0 + 2*pi*f_array)**2/(pi**2*f_0**2) + 1)) + Q_0*exp(1.0*I*phi_0)/(pi*f_0*(Q_0**2*(-2*pi*f_0 + 2*pi*f_array)**2/(pi**2*f_0**2) + 1)) + R*(-Q_1*exp(-1.0*I*phi_1)/(pi*f_1*(Q_1**2*(2*pi*f_1 + 2*pi*f_array)**2/(pi**2*f_1**2) + 1)) + Q_1*exp(1.0*I*phi_1)/(pi*f_1*(Q_1**2*(-2*pi*f_1 + 2*pi*f_array)**2/(pi**2*f_1**2) + 1)))) \n",
      "\n",
      "phi_0\n",
      "real polarization\n",
      "\n",
      "A*(-1.0*I*Q_0*exp(-1.0*I*phi_0)/(pi*f_0*(Q_0**2*(2*pi*f_0 + 2*pi*f_array)**2/(pi**2*f_0**2) + 1)) + 1.0*I*Q_0*exp(1.0*I*phi_0)/(pi*f_0*(Q_0**2*(-2*pi*f_0 + 2*pi*f_array)**2/(pi**2*f_0**2) + 1)))/2 \n",
      "\n",
      "imaginary polarization\n",
      "\n",
      "0.5*I*A*(1.0*I*Q_0*exp(-1.0*I*phi_0)/(pi*f_0*(Q_0**2*(2*pi*f_0 + 2*pi*f_array)**2/(pi**2*f_0**2) + 1)) + 1.0*I*Q_0*exp(1.0*I*phi_0)/(pi*f_0*(Q_0**2*(-2*pi*f_0 + 2*pi*f_array)**2/(pi**2*f_0**2) + 1))) \n",
      "\n",
      "f_0\n",
      "real polarization\n",
      "\n",
      "A*(Q_0*(-4*Q_0**2*(2*pi*f_0 + 2*pi*f_array)/(pi*f_0**2) + 2*Q_0**2*(2*pi*f_0 + 2*pi*f_array)**2/(pi**2*f_0**3))*exp(-1.0*I*phi_0)/(pi*f_0*(Q_0**2*(2*pi*f_0 + 2*pi*f_array)**2/(pi**2*f_0**2) + 1)**2) + Q_0*(4*Q_0**2*(-2*pi*f_0 + 2*pi*f_array)/(pi*f_0**2) + 2*Q_0**2*(-2*pi*f_0 + 2*pi*f_array)**2/(pi**2*f_0**3))*exp(1.0*I*phi_0)/(pi*f_0*(Q_0**2*(-2*pi*f_0 + 2*pi*f_array)**2/(pi**2*f_0**2) + 1)**2) - Q_0*exp(-1.0*I*phi_0)/(pi*f_0**2*(Q_0**2*(2*pi*f_0 + 2*pi*f_array)**2/(pi**2*f_0**2) + 1)) - Q_0*exp(1.0*I*phi_0)/(pi*f_0**2*(Q_0**2*(-2*pi*f_0 + 2*pi*f_array)**2/(pi**2*f_0**2) + 1)))/2 \n",
      "\n",
      "imaginary polarization\n",
      "\n",
      "0.5*I*A*(-Q_0*(-4*Q_0**2*(2*pi*f_0 + 2*pi*f_array)/(pi*f_0**2) + 2*Q_0**2*(2*pi*f_0 + 2*pi*f_array)**2/(pi**2*f_0**3))*exp(-1.0*I*phi_0)/(pi*f_0*(Q_0**2*(2*pi*f_0 + 2*pi*f_array)**2/(pi**2*f_0**2) + 1)**2) + Q_0*(4*Q_0**2*(-2*pi*f_0 + 2*pi*f_array)/(pi*f_0**2) + 2*Q_0**2*(-2*pi*f_0 + 2*pi*f_array)**2/(pi**2*f_0**3))*exp(1.0*I*phi_0)/(pi*f_0*(Q_0**2*(-2*pi*f_0 + 2*pi*f_array)**2/(pi**2*f_0**2) + 1)**2) + Q_0*exp(-1.0*I*phi_0)/(pi*f_0**2*(Q_0**2*(2*pi*f_0 + 2*pi*f_array)**2/(pi**2*f_0**2) + 1)) - Q_0*exp(1.0*I*phi_0)/(pi*f_0**2*(Q_0**2*(-2*pi*f_0 + 2*pi*f_array)**2/(pi**2*f_0**2) + 1))) \n",
      "\n",
      "Q_0\n",
      "real polarization\n",
      "\n",
      "A*(-2*Q_0**2*(-2*pi*f_0 + 2*pi*f_array)**2*exp(1.0*I*phi_0)/(pi**3*f_0**3*(Q_0**2*(-2*pi*f_0 + 2*pi*f_array)**2/(pi**2*f_0**2) + 1)**2) - 2*Q_0**2*(2*pi*f_0 + 2*pi*f_array)**2*exp(-1.0*I*phi_0)/(pi**3*f_0**3*(Q_0**2*(2*pi*f_0 + 2*pi*f_array)**2/(pi**2*f_0**2) + 1)**2) + exp(-1.0*I*phi_0)/(pi*f_0*(Q_0**2*(2*pi*f_0 + 2*pi*f_array)**2/(pi**2*f_0**2) + 1)) + exp(1.0*I*phi_0)/(pi*f_0*(Q_0**2*(-2*pi*f_0 + 2*pi*f_array)**2/(pi**2*f_0**2) + 1)))/2 \n",
      "\n",
      "imaginary polarization\n",
      "\n",
      "0.5*I*A*(-2*Q_0**2*(-2*pi*f_0 + 2*pi*f_array)**2*exp(1.0*I*phi_0)/(pi**3*f_0**3*(Q_0**2*(-2*pi*f_0 + 2*pi*f_array)**2/(pi**2*f_0**2) + 1)**2) + 2*Q_0**2*(2*pi*f_0 + 2*pi*f_array)**2*exp(-1.0*I*phi_0)/(pi**3*f_0**3*(Q_0**2*(2*pi*f_0 + 2*pi*f_array)**2/(pi**2*f_0**2) + 1)**2) - exp(-1.0*I*phi_0)/(pi*f_0*(Q_0**2*(2*pi*f_0 + 2*pi*f_array)**2/(pi**2*f_0**2) + 1)) + exp(1.0*I*phi_0)/(pi*f_0*(Q_0**2*(-2*pi*f_0 + 2*pi*f_array)**2/(pi**2*f_0**2) + 1))) \n",
      "\n",
      "R\n",
      "real polarization\n",
      "\n",
      "A*(Q_1*exp(-1.0*I*phi_1)/(pi*f_1*(Q_1**2*(2*pi*f_1 + 2*pi*f_array)**2/(pi**2*f_1**2) + 1)) + Q_1*exp(1.0*I*phi_1)/(pi*f_1*(Q_1**2*(-2*pi*f_1 + 2*pi*f_array)**2/(pi**2*f_1**2) + 1)))/2 \n",
      "\n",
      "imaginary polarization\n",
      "\n",
      "0.5*I*A*(-Q_1*exp(-1.0*I*phi_1)/(pi*f_1*(Q_1**2*(2*pi*f_1 + 2*pi*f_array)**2/(pi**2*f_1**2) + 1)) + Q_1*exp(1.0*I*phi_1)/(pi*f_1*(Q_1**2*(-2*pi*f_1 + 2*pi*f_array)**2/(pi**2*f_1**2) + 1))) \n",
      "\n",
      "phi_1\n",
      "real polarization\n",
      "\n",
      "A*R*(-1.0*I*Q_1*exp(-1.0*I*phi_1)/(pi*f_1*(Q_1**2*(2*pi*f_1 + 2*pi*f_array)**2/(pi**2*f_1**2) + 1)) + 1.0*I*Q_1*exp(1.0*I*phi_1)/(pi*f_1*(Q_1**2*(-2*pi*f_1 + 2*pi*f_array)**2/(pi**2*f_1**2) + 1)))/2 \n",
      "\n",
      "imaginary polarization\n",
      "\n",
      "0.5*I*A*R*(1.0*I*Q_1*exp(-1.0*I*phi_1)/(pi*f_1*(Q_1**2*(2*pi*f_1 + 2*pi*f_array)**2/(pi**2*f_1**2) + 1)) + 1.0*I*Q_1*exp(1.0*I*phi_1)/(pi*f_1*(Q_1**2*(-2*pi*f_1 + 2*pi*f_array)**2/(pi**2*f_1**2) + 1))) \n",
      "\n",
      "f_1\n",
      "real polarization\n",
      "\n",
      "A*R*(Q_1*(-4*Q_1**2*(2*pi*f_1 + 2*pi*f_array)/(pi*f_1**2) + 2*Q_1**2*(2*pi*f_1 + 2*pi*f_array)**2/(pi**2*f_1**3))*exp(-1.0*I*phi_1)/(pi*f_1*(Q_1**2*(2*pi*f_1 + 2*pi*f_array)**2/(pi**2*f_1**2) + 1)**2) + Q_1*(4*Q_1**2*(-2*pi*f_1 + 2*pi*f_array)/(pi*f_1**2) + 2*Q_1**2*(-2*pi*f_1 + 2*pi*f_array)**2/(pi**2*f_1**3))*exp(1.0*I*phi_1)/(pi*f_1*(Q_1**2*(-2*pi*f_1 + 2*pi*f_array)**2/(pi**2*f_1**2) + 1)**2) - Q_1*exp(-1.0*I*phi_1)/(pi*f_1**2*(Q_1**2*(2*pi*f_1 + 2*pi*f_array)**2/(pi**2*f_1**2) + 1)) - Q_1*exp(1.0*I*phi_1)/(pi*f_1**2*(Q_1**2*(-2*pi*f_1 + 2*pi*f_array)**2/(pi**2*f_1**2) + 1)))/2 \n",
      "\n",
      "imaginary polarization\n",
      "\n",
      "0.5*I*A*R*(-Q_1*(-4*Q_1**2*(2*pi*f_1 + 2*pi*f_array)/(pi*f_1**2) + 2*Q_1**2*(2*pi*f_1 + 2*pi*f_array)**2/(pi**2*f_1**3))*exp(-1.0*I*phi_1)/(pi*f_1*(Q_1**2*(2*pi*f_1 + 2*pi*f_array)**2/(pi**2*f_1**2) + 1)**2) + Q_1*(4*Q_1**2*(-2*pi*f_1 + 2*pi*f_array)/(pi*f_1**2) + 2*Q_1**2*(-2*pi*f_1 + 2*pi*f_array)**2/(pi**2*f_1**3))*exp(1.0*I*phi_1)/(pi*f_1*(Q_1**2*(-2*pi*f_1 + 2*pi*f_array)**2/(pi**2*f_1**2) + 1)**2) + Q_1*exp(-1.0*I*phi_1)/(pi*f_1**2*(Q_1**2*(2*pi*f_1 + 2*pi*f_array)**2/(pi**2*f_1**2) + 1)) - Q_1*exp(1.0*I*phi_1)/(pi*f_1**2*(Q_1**2*(-2*pi*f_1 + 2*pi*f_array)**2/(pi**2*f_1**2) + 1))) \n",
      "\n",
      "Q_1\n",
      "real polarization\n",
      "\n",
      "A*R*(-2*Q_1**2*(-2*pi*f_1 + 2*pi*f_array)**2*exp(1.0*I*phi_1)/(pi**3*f_1**3*(Q_1**2*(-2*pi*f_1 + 2*pi*f_array)**2/(pi**2*f_1**2) + 1)**2) - 2*Q_1**2*(2*pi*f_1 + 2*pi*f_array)**2*exp(-1.0*I*phi_1)/(pi**3*f_1**3*(Q_1**2*(2*pi*f_1 + 2*pi*f_array)**2/(pi**2*f_1**2) + 1)**2) + exp(-1.0*I*phi_1)/(pi*f_1*(Q_1**2*(2*pi*f_1 + 2*pi*f_array)**2/(pi**2*f_1**2) + 1)) + exp(1.0*I*phi_1)/(pi*f_1*(Q_1**2*(-2*pi*f_1 + 2*pi*f_array)**2/(pi**2*f_1**2) + 1)))/2 \n",
      "\n",
      "imaginary polarization\n",
      "\n",
      "0.5*I*A*R*(-2*Q_1**2*(-2*pi*f_1 + 2*pi*f_array)**2*exp(1.0*I*phi_1)/(pi**3*f_1**3*(Q_1**2*(-2*pi*f_1 + 2*pi*f_array)**2/(pi**2*f_1**2) + 1)**2) + 2*Q_1**2*(2*pi*f_1 + 2*pi*f_array)**2*exp(-1.0*I*phi_1)/(pi**3*f_1**3*(Q_1**2*(2*pi*f_1 + 2*pi*f_array)**2/(pi**2*f_1**2) + 1)**2) - exp(-1.0*I*phi_1)/(pi*f_1*(Q_1**2*(2*pi*f_1 + 2*pi*f_array)**2/(pi**2*f_1**2) + 1)) + exp(1.0*I*phi_1)/(pi*f_1*(Q_1**2*(-2*pi*f_1 + 2*pi*f_array)**2/(pi**2*f_1**2) + 1))) \n",
      "\n"
     ]
    }
   ],
   "source": [
    "for par in (A, phi_0, f_0, Q_0, R, phi_1, f_1, Q_1):\n",
    "    print(par)\n",
    "    print('real polarization\\n')\n",
    "    print(diff(h_two_Re, par), '\\n')\n",
    "    print('imaginary polarization\\n')\n",
    "    print(diff(h_two_Im, par), '\\n')\n",
    "    "
   ]
  },
  {
   "cell_type": "code",
   "execution_count": null,
   "id": "otherwise-presentation",
   "metadata": {},
   "outputs": [],
   "source": []
  }
 ],
 "metadata": {
  "kernelspec": {
   "display_name": "fisher_errors",
   "language": "python",
   "name": "fisher_errors"
  },
  "language_info": {
   "codemirror_mode": {
    "name": "ipython",
    "version": 3
   },
   "file_extension": ".py",
   "mimetype": "text/x-python",
   "name": "python",
   "nbconvert_exporter": "python",
   "pygments_lexer": "ipython3",
   "version": "3.9.5"
  }
 },
 "nbformat": 4,
 "nbformat_minor": 5
}
